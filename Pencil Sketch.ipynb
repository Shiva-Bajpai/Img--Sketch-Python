{
 "cells": [
  {
   "cell_type": "markdown",
   "id": "6238cfe9",
   "metadata": {},
   "source": [
    "# Image to Pencil Sketch with Python"
   ]
  },
  {
   "cell_type": "markdown",
   "id": "4b06bb47",
   "metadata": {},
   "source": [
    "### Installing Dependency"
   ]
  },
  {
   "cell_type": "code",
   "execution_count": 1,
   "id": "7cb148ee",
   "metadata": {},
   "outputs": [
    {
     "name": "stdout",
     "output_type": "stream",
     "text": [
      "Requirement already satisfied: opencv.python in c:\\users\\sneha\\anaconda3\\lib\\site-packages (4.5.4.60)Note: you may need to restart the kernel to use updated packages.\n",
      "\n",
      "Requirement already satisfied: numpy>=1.17.3 in c:\\users\\sneha\\anaconda3\\lib\\site-packages (from opencv.python) (1.20.1)\n"
     ]
    }
   ],
   "source": [
    "pip install opencv.python"
   ]
  },
  {
   "cell_type": "markdown",
   "id": "260ee2d1",
   "metadata": {},
   "source": [
    "### Importing Packeges"
   ]
  },
  {
   "cell_type": "code",
   "execution_count": 2,
   "id": "7896b151",
   "metadata": {},
   "outputs": [],
   "source": [
    "import cv2"
   ]
  },
  {
   "cell_type": "code",
   "execution_count": 3,
   "id": "c2d0f25b",
   "metadata": {},
   "outputs": [
    {
     "data": {
      "text/plain": [
       "'C:\\\\Users\\\\Sneha\\\\My First'"
      ]
     },
     "execution_count": 3,
     "metadata": {},
     "output_type": "execute_result"
    }
   ],
   "source": [
    "pwd "
   ]
  },
  {
   "cell_type": "code",
   "execution_count": 4,
   "id": "f0aa105d",
   "metadata": {},
   "outputs": [],
   "source": [
    "#past the target image in this dir"
   ]
  },
  {
   "cell_type": "markdown",
   "id": "7dcf593b",
   "metadata": {},
   "source": [
    "### Reading Images"
   ]
  },
  {
   "cell_type": "code",
   "execution_count": 14,
   "id": "fa313626",
   "metadata": {},
   "outputs": [],
   "source": [
    "image = cv2.imread(\"rabbit.jpg\")"
   ]
  },
  {
   "cell_type": "code",
   "execution_count": null,
   "id": "ede0c084",
   "metadata": {},
   "outputs": [],
   "source": [
    "image = cv2.imread(\"neha.jpg\")"
   ]
  },
  {
   "cell_type": "code",
   "execution_count": null,
   "id": "47f1a937",
   "metadata": {},
   "outputs": [],
   "source": [
    "image = cv2.imread(\"Rose.jpg\")"
   ]
  },
  {
   "cell_type": "markdown",
   "id": "6eeb8fef",
   "metadata": {},
   "source": [
    "### Manipulation or Filtering"
   ]
  },
  {
   "cell_type": "code",
   "execution_count": 6,
   "id": "462b8be6",
   "metadata": {},
   "outputs": [],
   "source": [
    "grey_filter = cv2.cvtColor(image, cv2.COLOR_BGR2GRAY)"
   ]
  },
  {
   "cell_type": "code",
   "execution_count": 7,
   "id": "49680484",
   "metadata": {},
   "outputs": [],
   "source": [
    "invert = cv2.bitwise_not(grey_filter)"
   ]
  },
  {
   "cell_type": "code",
   "execution_count": 8,
   "id": "8575d754",
   "metadata": {},
   "outputs": [],
   "source": [
    "blur = cv2.GaussianBlur(invert,(21,21),0)"
   ]
  },
  {
   "cell_type": "code",
   "execution_count": 9,
   "id": "92e3ade8",
   "metadata": {},
   "outputs": [],
   "source": [
    "invertedblure = cv2.bitwise_not(blur)"
   ]
  },
  {
   "cell_type": "code",
   "execution_count": 10,
   "id": "eff59600",
   "metadata": {},
   "outputs": [],
   "source": [
    "sketch_filter = cv2.divide(grey_filter,invertedblure,scale=256.0)"
   ]
  },
  {
   "cell_type": "code",
   "execution_count": 11,
   "id": "f0facd9a",
   "metadata": {},
   "outputs": [
    {
     "data": {
      "text/plain": [
       "True"
      ]
     },
     "execution_count": 11,
     "metadata": {},
     "output_type": "execute_result"
    }
   ],
   "source": [
    "cv2.imwrite(\"sketch of Rabbit.jpg\",sketch_filter)"
   ]
  },
  {
   "cell_type": "code",
   "execution_count": 12,
   "id": "2da7917a",
   "metadata": {},
   "outputs": [
    {
     "data": {
      "text/plain": [
       "True"
      ]
     },
     "execution_count": 12,
     "metadata": {},
     "output_type": "execute_result"
    }
   ],
   "source": [
    "cv2.imwrite(\"sketch of neha.jpg\",sketch_filter)"
   ]
  },
  {
   "cell_type": "code",
   "execution_count": 13,
   "id": "5b9860b6",
   "metadata": {},
   "outputs": [
    {
     "data": {
      "text/plain": [
       "True"
      ]
     },
     "execution_count": 13,
     "metadata": {},
     "output_type": "execute_result"
    }
   ],
   "source": [
    "cv2.imwrite(\"sketch of Rose.jpg\",sketch_filter)"
   ]
  },
  {
   "cell_type": "code",
   "execution_count": null,
   "id": "15c23f70",
   "metadata": {},
   "outputs": [],
   "source": []
  }
 ],
 "metadata": {
  "kernelspec": {
   "display_name": "Python 3",
   "language": "python",
   "name": "python3"
  },
  "language_info": {
   "codemirror_mode": {
    "name": "ipython",
    "version": 3
   },
   "file_extension": ".py",
   "mimetype": "text/x-python",
   "name": "python",
   "nbconvert_exporter": "python",
   "pygments_lexer": "ipython3",
   "version": "3.8.8"
  }
 },
 "nbformat": 4,
 "nbformat_minor": 5
}
